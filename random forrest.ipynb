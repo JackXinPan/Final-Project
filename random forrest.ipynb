{
 "cells": [
  {
   "cell_type": "code",
   "execution_count": 2,
   "id": "f295e9dd",
   "metadata": {},
   "outputs": [],
   "source": [
    "from sklearn.ensemble import RandomForestRegressor\n",
    "import pandas as pd"
   ]
  },
  {
   "cell_type": "code",
   "execution_count": 3,
   "id": "20f8aeb3",
   "metadata": {},
   "outputs": [],
   "source": [
    "data = pd.read_csv('data/decaydata.csv')\n",
    "data.dropna(inplace=True)\n",
    "data['30 min decay'] = data[\"T0\"]-data[\"T0.5\"]\n",
    "data[\"SUVA\"] = data[\"UVA\"]/data[\"FOC\"]*100"
   ]
  },
  {
   "cell_type": "code",
   "execution_count": 4,
   "id": "1d7f3d31",
   "metadata": {},
   "outputs": [],
   "source": [
    "cleaneddata = data[data[\"Code\"] != \"SW23\"]"
   ]
  },
  {
   "cell_type": "code",
   "execution_count": 13,
   "id": "773ee204",
   "metadata": {},
   "outputs": [],
   "source": [
    "X = cleaneddata[[\"UVA\",\"FOC\",\"pH\",\"Dose Rate (mg/L)\",\"30 min decay\",\"Br\",\"COLOUR\",\"Turb\",\"Cl\",\"COND\"]]\n",
    "y = cleaneddata[\"TTHM\"]"
   ]
  },
  {
   "cell_type": "code",
   "execution_count": 14,
   "id": "5fae5cfc",
   "metadata": {},
   "outputs": [
    {
     "data": {
      "text/plain": [
       "0       11\n",
       "1       28\n",
       "2      150\n",
       "3      140\n",
       "4      100\n",
       "      ... \n",
       "604     62\n",
       "605    121\n",
       "606    158\n",
       "607    174\n",
       "608    198\n",
       "Name: TTHM, Length: 402, dtype: int64"
      ]
     },
     "execution_count": 14,
     "metadata": {},
     "output_type": "execute_result"
    }
   ],
   "source": [
    "y"
   ]
  },
  {
   "cell_type": "code",
   "execution_count": 15,
   "id": "6d763f85",
   "metadata": {},
   "outputs": [],
   "source": [
    "from sklearn.model_selection import train_test_split\n",
    "\n",
    "# initial X, Y split\n",
    "X_train, X_test, y_train, y_test = train_test_split(X, y)"
   ]
  },
  {
   "cell_type": "code",
   "execution_count": 16,
   "id": "452b5bd1",
   "metadata": {},
   "outputs": [],
   "source": [
    "randomForestRegressor = RandomForestRegressor(n_estimators=100, max_depth=15,random_state=0)\n",
    "# rfr_model = Pipeline(steps=[('preprocessorAll',preprocessorForAllColumns),('regressor', randomForestRegressor)])\n",
    "randomForestRegressor.fit(X_train,y_train)\n",
    "y_pred_rfr=randomForestRegressor.predict(X_test)"
   ]
  },
  {
   "cell_type": "code",
   "execution_count": 23,
   "id": "3fd4c327",
   "metadata": {},
   "outputs": [
    {
     "data": {
      "text/plain": [
       "array([389.05      , 111.08      , 140.02      , 139.2175    ,\n",
       "       157.36      ,  61.55      , 133.65      ,  67.9       ,\n",
       "        96.7       , 210.88      , 142.53      , 123.09      ,\n",
       "        37.16      ,  67.35      ,  94.01      , 115.39      ,\n",
       "       138.04      , 323.17      , 170.70333333,  94.64      ,\n",
       "        84.75      ,  71.14      , 274.7       , 193.735     ,\n",
       "       286.1       , 220.25      , 137.39      ,  87.35      ,\n",
       "       156.27      ,  38.03      , 140.33      ,   6.5       ,\n",
       "       125.6225    ,  95.74777778,  62.59      ,  39.18      ,\n",
       "        90.21      ,  12.5       , 133.01      , 171.64      ,\n",
       "       337.51      ,  92.52      ,  68.49833333, 128.93      ,\n",
       "        44.71      , 106.56      ,  55.89      ,  39.76      ,\n",
       "       144.8525    , 143.61      , 145.97      , 157.93      ,\n",
       "        90.24      , 129.2       ,  34.86      , 137.52      ,\n",
       "         6.92      ,  48.4       ,   7.77      ,  39.22      ,\n",
       "        74.07      , 245.64      ,  22.98      , 145.7       ,\n",
       "       100.6       ,  62.78      , 121.7       , 147.99      ,\n",
       "        91.56928571, 158.23      ,  58.14      , 206.4       ,\n",
       "        40.52      , 112.46      , 150.94916667,  32.25      ,\n",
       "        37.92      ,  57.3       ,  90.04928571,  59.7       ,\n",
       "        25.4       ,  31.38      ,  11.02      ,  57.41      ,\n",
       "       113.05      , 173.63      , 130.05      ,   6.75      ,\n",
       "        23.5       ,  32.57      , 103.53      ,  42.11      ,\n",
       "        33.3       ,  56.97      , 170.65      , 109.58      ,\n",
       "        10.5       , 290.08      , 117.64      ,  66.08      ,\n",
       "        36.97      ])"
      ]
     },
     "execution_count": 23,
     "metadata": {},
     "output_type": "execute_result"
    }
   ],
   "source": [
    "y_pred_rfr"
   ]
  },
  {
   "cell_type": "code",
   "execution_count": 21,
   "id": "3991e12b",
   "metadata": {},
   "outputs": [
    {
     "data": {
      "text/plain": [
       "array([[430],\n",
       "       [110],\n",
       "       [180],\n",
       "       [120],\n",
       "       [170],\n",
       "       [120],\n",
       "       [140],\n",
       "       [ 67],\n",
       "       [140],\n",
       "       [230],\n",
       "       [180],\n",
       "       [ 85],\n",
       "       [150],\n",
       "       [ 64],\n",
       "       [ 90],\n",
       "       [120],\n",
       "       [140],\n",
       "       [330],\n",
       "       [170],\n",
       "       [ 74],\n",
       "       [ 95],\n",
       "       [ 68],\n",
       "       [360],\n",
       "       [200],\n",
       "       [250],\n",
       "       [330],\n",
       "       [210],\n",
       "       [ 38],\n",
       "       [230],\n",
       "       [ 37],\n",
       "       [130],\n",
       "       [  4],\n",
       "       [170],\n",
       "       [110],\n",
       "       [ 51],\n",
       "       [ 22],\n",
       "       [ 72],\n",
       "       [  4],\n",
       "       [170],\n",
       "       [187],\n",
       "       [300],\n",
       "       [ 79],\n",
       "       [ 38],\n",
       "       [110],\n",
       "       [  4],\n",
       "       [160],\n",
       "       [ 51],\n",
       "       [  6],\n",
       "       [140],\n",
       "       [130],\n",
       "       [150],\n",
       "       [220],\n",
       "       [ 88],\n",
       "       [100],\n",
       "       [ 25],\n",
       "       [110],\n",
       "       [  1],\n",
       "       [ 94],\n",
       "       [  6],\n",
       "       [  9],\n",
       "       [ 56],\n",
       "       [280],\n",
       "       [ 25],\n",
       "       [120],\n",
       "       [ 80],\n",
       "       [ 64],\n",
       "       [ 25],\n",
       "       [160],\n",
       "       [ 74],\n",
       "       [130],\n",
       "       [ 66],\n",
       "       [230],\n",
       "       [ 25],\n",
       "       [ 90],\n",
       "       [180],\n",
       "       [ 19],\n",
       "       [ 10],\n",
       "       [ 32],\n",
       "       [100],\n",
       "       [ 26],\n",
       "       [ 12],\n",
       "       [ 25],\n",
       "       [  6],\n",
       "       [ 47],\n",
       "       [100],\n",
       "       [174],\n",
       "       [180],\n",
       "       [  4],\n",
       "       [ 14],\n",
       "       [ 26],\n",
       "       [ 86],\n",
       "       [ 36],\n",
       "       [ 50],\n",
       "       [ 62],\n",
       "       [180],\n",
       "       [150],\n",
       "       [ 12],\n",
       "       [340],\n",
       "       [120],\n",
       "       [ 40],\n",
       "       [  4]], dtype=int64)"
      ]
     },
     "execution_count": 21,
     "metadata": {},
     "output_type": "execute_result"
    }
   ],
   "source": [
    "y_test.values.reshape(-1, 1)"
   ]
  },
  {
   "cell_type": "code",
   "execution_count": 24,
   "id": "3ca747f3",
   "metadata": {},
   "outputs": [
    {
     "data": {
      "text/plain": [
       "0.8667195551960056"
      ]
     },
     "execution_count": 24,
     "metadata": {},
     "output_type": "execute_result"
    }
   ],
   "source": [
    "from sklearn.metrics import r2_score\n",
    "r2_score(y_test,y_pred_rfr)"
   ]
  },
  {
   "cell_type": "code",
   "execution_count": 25,
   "id": "fc94296b",
   "metadata": {},
   "outputs": [],
   "source": [
    "feature_list = list(X.columns)"
   ]
  },
  {
   "cell_type": "code",
   "execution_count": 27,
   "id": "89a4d38b",
   "metadata": {},
   "outputs": [
    {
     "name": "stdout",
     "output_type": "stream",
     "text": [
      "Variable: Dose Rate (mg/L)     Importance: 0.38\n",
      "Variable: FOC                  Importance: 0.28\n",
      "Variable: Br                   Importance: 0.11\n",
      "Variable: UVA                  Importance: 0.05\n",
      "Variable: 30 min decay         Importance: 0.05\n",
      "Variable: Cl                   Importance: 0.05\n",
      "Variable: Turb                 Importance: 0.03\n",
      "Variable: COND                 Importance: 0.03\n",
      "Variable: pH                   Importance: 0.02\n",
      "Variable: COLOUR               Importance: 0.01\n"
     ]
    },
    {
     "data": {
      "text/plain": [
       "[None, None, None, None, None, None, None, None, None, None]"
      ]
     },
     "execution_count": 27,
     "metadata": {},
     "output_type": "execute_result"
    }
   ],
   "source": [
    "# Get numerical feature importances\n",
    "importances = list(randomForestRegressor.feature_importances_)\n",
    "# List of tuples with variable and importance\n",
    "feature_importances = [(feature, round(importance, 2)) for feature, importance in zip(feature_list, importances)]\n",
    "# Sort the feature importances by most important first\n",
    "feature_importances = sorted(feature_importances, key = lambda x: x[1], reverse = True)\n",
    "# Print out the feature and importances \n",
    "[print('Variable: {:20} Importance: {}'.format(*pair)) for pair in feature_importances]\n"
   ]
  },
  {
   "cell_type": "code",
   "execution_count": null,
   "id": "7e2ea149",
   "metadata": {},
   "outputs": [],
   "source": []
  }
 ],
 "metadata": {
  "kernelspec": {
   "display_name": "Python 3",
   "language": "python",
   "name": "python3"
  },
  "language_info": {
   "codemirror_mode": {
    "name": "ipython",
    "version": 3
   },
   "file_extension": ".py",
   "mimetype": "text/x-python",
   "name": "python",
   "nbconvert_exporter": "python",
   "pygments_lexer": "ipython3",
   "version": "3.8.5"
  }
 },
 "nbformat": 4,
 "nbformat_minor": 5
}
