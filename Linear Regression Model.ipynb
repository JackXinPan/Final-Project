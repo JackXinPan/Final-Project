{
 "cells": [
  {
   "cell_type": "code",
   "execution_count": 195,
   "id": "44522b94",
   "metadata": {},
   "outputs": [],
   "source": [
    "import pandas as pd\n",
    "from sklearn.linear_model import LinearRegression\n",
    "import numpy as np\n",
    "import matplotlib.pyplot as plt\n"
   ]
  },
  {
   "cell_type": "code",
   "execution_count": 196,
   "id": "82e235ce",
   "metadata": {},
   "outputs": [
    {
     "data": {
      "text/plain": [
       "(609, 18)"
      ]
     },
     "execution_count": 196,
     "metadata": {},
     "output_type": "execute_result"
    }
   ],
   "source": [
    "data = pd.read_csv('data/decaydata.csv')\n",
    "data.shape"
   ]
  },
  {
   "cell_type": "code",
   "execution_count": 197,
   "id": "ee78539d",
   "metadata": {},
   "outputs": [
    {
     "data": {
      "text/plain": [
       "(609, 18)"
      ]
     },
     "execution_count": 197,
     "metadata": {},
     "output_type": "execute_result"
    }
   ],
   "source": [
    "data.shape"
   ]
  },
  {
   "cell_type": "code",
   "execution_count": 198,
   "id": "02d148bd",
   "metadata": {},
   "outputs": [],
   "source": [
    "data.dropna(inplace=True)"
   ]
  },
  {
   "cell_type": "code",
   "execution_count": 199,
   "id": "8c413254",
   "metadata": {},
   "outputs": [
    {
     "data": {
      "text/plain": [
       "(407, 18)"
      ]
     },
     "execution_count": 199,
     "metadata": {},
     "output_type": "execute_result"
    }
   ],
   "source": [
    "data.shape"
   ]
  },
  {
   "cell_type": "code",
   "execution_count": 200,
   "id": "89f26bfe",
   "metadata": {},
   "outputs": [
    {
     "data": {
      "text/html": [
       "<div>\n",
       "<style scoped>\n",
       "    .dataframe tbody tr th:only-of-type {\n",
       "        vertical-align: middle;\n",
       "    }\n",
       "\n",
       "    .dataframe tbody tr th {\n",
       "        vertical-align: top;\n",
       "    }\n",
       "\n",
       "    .dataframe thead th {\n",
       "        text-align: right;\n",
       "    }\n",
       "</style>\n",
       "<table border=\"1\" class=\"dataframe\">\n",
       "  <thead>\n",
       "    <tr style=\"text-align: right;\">\n",
       "      <th></th>\n",
       "      <th>Code</th>\n",
       "      <th>Date</th>\n",
       "      <th>T0</th>\n",
       "      <th>T0.5</th>\n",
       "      <th>Dose Rate (mg/L)</th>\n",
       "      <th>CHCl3</th>\n",
       "      <th>CHCl2Br</th>\n",
       "      <th>CHClBr2</th>\n",
       "      <th>CHBr3</th>\n",
       "      <th>TTHM</th>\n",
       "      <th>pH</th>\n",
       "      <th>COND</th>\n",
       "      <th>Turb</th>\n",
       "      <th>Cl</th>\n",
       "      <th>Br</th>\n",
       "      <th>COLOUR</th>\n",
       "      <th>FOC</th>\n",
       "      <th>UVA</th>\n",
       "    </tr>\n",
       "  </thead>\n",
       "  <tbody>\n",
       "    <tr>\n",
       "      <th>0</th>\n",
       "      <td>GW1</td>\n",
       "      <td>11/02/2021</td>\n",
       "      <td>0.98</td>\n",
       "      <td>0.79</td>\n",
       "      <td>0.98</td>\n",
       "      <td>1</td>\n",
       "      <td>2</td>\n",
       "      <td>4</td>\n",
       "      <td>5</td>\n",
       "      <td>11</td>\n",
       "      <td>6.74</td>\n",
       "      <td>79.0</td>\n",
       "      <td>38.0</td>\n",
       "      <td>140.0</td>\n",
       "      <td>0.38</td>\n",
       "      <td>2.0</td>\n",
       "      <td>1.3</td>\n",
       "      <td>0.033</td>\n",
       "    </tr>\n",
       "    <tr>\n",
       "      <th>1</th>\n",
       "      <td>GW1</td>\n",
       "      <td>11/02/2021</td>\n",
       "      <td>1.02</td>\n",
       "      <td>1.03</td>\n",
       "      <td>1.02</td>\n",
       "      <td>1</td>\n",
       "      <td>4</td>\n",
       "      <td>9</td>\n",
       "      <td>15</td>\n",
       "      <td>28</td>\n",
       "      <td>6.74</td>\n",
       "      <td>79.0</td>\n",
       "      <td>38.0</td>\n",
       "      <td>140.0</td>\n",
       "      <td>0.38</td>\n",
       "      <td>2.0</td>\n",
       "      <td>1.3</td>\n",
       "      <td>0.033</td>\n",
       "    </tr>\n",
       "    <tr>\n",
       "      <th>2</th>\n",
       "      <td>GW1</td>\n",
       "      <td>11/02/2021</td>\n",
       "      <td>3.90</td>\n",
       "      <td>2.00</td>\n",
       "      <td>3.90</td>\n",
       "      <td>5</td>\n",
       "      <td>25</td>\n",
       "      <td>67</td>\n",
       "      <td>52</td>\n",
       "      <td>150</td>\n",
       "      <td>6.74</td>\n",
       "      <td>79.0</td>\n",
       "      <td>38.0</td>\n",
       "      <td>140.0</td>\n",
       "      <td>0.38</td>\n",
       "      <td>2.0</td>\n",
       "      <td>1.3</td>\n",
       "      <td>0.033</td>\n",
       "    </tr>\n",
       "    <tr>\n",
       "      <th>3</th>\n",
       "      <td>GW1</td>\n",
       "      <td>11/02/2021</td>\n",
       "      <td>5.80</td>\n",
       "      <td>3.50</td>\n",
       "      <td>5.80</td>\n",
       "      <td>11</td>\n",
       "      <td>37</td>\n",
       "      <td>65</td>\n",
       "      <td>27</td>\n",
       "      <td>140</td>\n",
       "      <td>6.74</td>\n",
       "      <td>79.0</td>\n",
       "      <td>38.0</td>\n",
       "      <td>140.0</td>\n",
       "      <td>0.38</td>\n",
       "      <td>2.0</td>\n",
       "      <td>1.3</td>\n",
       "      <td>0.033</td>\n",
       "    </tr>\n",
       "    <tr>\n",
       "      <th>4</th>\n",
       "      <td>GW1</td>\n",
       "      <td>11/02/2021</td>\n",
       "      <td>9.80</td>\n",
       "      <td>7.00</td>\n",
       "      <td>9.80</td>\n",
       "      <td>17</td>\n",
       "      <td>32</td>\n",
       "      <td>42</td>\n",
       "      <td>13</td>\n",
       "      <td>100</td>\n",
       "      <td>6.74</td>\n",
       "      <td>79.0</td>\n",
       "      <td>38.0</td>\n",
       "      <td>140.0</td>\n",
       "      <td>0.38</td>\n",
       "      <td>2.0</td>\n",
       "      <td>1.3</td>\n",
       "      <td>0.033</td>\n",
       "    </tr>\n",
       "  </tbody>\n",
       "</table>\n",
       "</div>"
      ],
      "text/plain": [
       "  Code        Date    T0  T0.5  Dose Rate (mg/L)  CHCl3  CHCl2Br  CHClBr2  \\\n",
       "0  GW1  11/02/2021  0.98  0.79              0.98      1        2        4   \n",
       "1  GW1  11/02/2021  1.02  1.03              1.02      1        4        9   \n",
       "2  GW1  11/02/2021  3.90  2.00              3.90      5       25       67   \n",
       "3  GW1  11/02/2021  5.80  3.50              5.80     11       37       65   \n",
       "4  GW1  11/02/2021  9.80  7.00              9.80     17       32       42   \n",
       "\n",
       "   CHBr3  TTHM    pH  COND  Turb     Cl    Br  COLOUR  FOC    UVA  \n",
       "0      5    11  6.74  79.0  38.0  140.0  0.38     2.0  1.3  0.033  \n",
       "1     15    28  6.74  79.0  38.0  140.0  0.38     2.0  1.3  0.033  \n",
       "2     52   150  6.74  79.0  38.0  140.0  0.38     2.0  1.3  0.033  \n",
       "3     27   140  6.74  79.0  38.0  140.0  0.38     2.0  1.3  0.033  \n",
       "4     13   100  6.74  79.0  38.0  140.0  0.38     2.0  1.3  0.033  "
      ]
     },
     "execution_count": 200,
     "metadata": {},
     "output_type": "execute_result"
    }
   ],
   "source": [
    "# intial data\n",
    "data.head()"
   ]
  },
  {
   "cell_type": "code",
   "execution_count": 97,
   "id": "0d4e36d3",
   "metadata": {},
   "outputs": [],
   "source": [
    "# add 30 min decay calculation\n",
    "data['30 min decay'] = data[\"T0\"]-data[\"T0.5\"]"
   ]
  },
  {
   "cell_type": "code",
   "execution_count": 66,
   "id": "51a6e597",
   "metadata": {},
   "outputs": [],
   "source": [
    "# add SUVA calculation\n",
    "data[\"SUVA\"] = data[\"UVA\"]/data[\"FOC\"]*100"
   ]
  },
  {
   "cell_type": "code",
   "execution_count": 98,
   "id": "267dbb4a",
   "metadata": {},
   "outputs": [
    {
     "data": {
      "text/html": [
       "<div>\n",
       "<style scoped>\n",
       "    .dataframe tbody tr th:only-of-type {\n",
       "        vertical-align: middle;\n",
       "    }\n",
       "\n",
       "    .dataframe tbody tr th {\n",
       "        vertical-align: top;\n",
       "    }\n",
       "\n",
       "    .dataframe thead th {\n",
       "        text-align: right;\n",
       "    }\n",
       "</style>\n",
       "<table border=\"1\" class=\"dataframe\">\n",
       "  <thead>\n",
       "    <tr style=\"text-align: right;\">\n",
       "      <th></th>\n",
       "      <th>Code</th>\n",
       "      <th>Date</th>\n",
       "      <th>T0</th>\n",
       "      <th>T0.5</th>\n",
       "      <th>Dose Rate (mg/L)</th>\n",
       "      <th>CHCl3</th>\n",
       "      <th>CHCl2Br</th>\n",
       "      <th>CHClBr2</th>\n",
       "      <th>CHBr3</th>\n",
       "      <th>TTHM</th>\n",
       "      <th>pH</th>\n",
       "      <th>COND</th>\n",
       "      <th>Turb</th>\n",
       "      <th>Cl</th>\n",
       "      <th>Br</th>\n",
       "      <th>COLOUR</th>\n",
       "      <th>FOC</th>\n",
       "      <th>UVA</th>\n",
       "      <th>SUVA</th>\n",
       "      <th>30 min decay</th>\n",
       "    </tr>\n",
       "  </thead>\n",
       "  <tbody>\n",
       "    <tr>\n",
       "      <th>0</th>\n",
       "      <td>GW1</td>\n",
       "      <td>11/02/2021</td>\n",
       "      <td>0.98</td>\n",
       "      <td>0.79</td>\n",
       "      <td>0.98</td>\n",
       "      <td>1</td>\n",
       "      <td>2</td>\n",
       "      <td>4</td>\n",
       "      <td>5</td>\n",
       "      <td>11</td>\n",
       "      <td>6.74</td>\n",
       "      <td>79.0</td>\n",
       "      <td>38.0</td>\n",
       "      <td>140.0</td>\n",
       "      <td>0.38</td>\n",
       "      <td>2.0</td>\n",
       "      <td>1.3</td>\n",
       "      <td>0.033</td>\n",
       "      <td>2.538462</td>\n",
       "      <td>0.19</td>\n",
       "    </tr>\n",
       "    <tr>\n",
       "      <th>1</th>\n",
       "      <td>GW1</td>\n",
       "      <td>11/02/2021</td>\n",
       "      <td>1.02</td>\n",
       "      <td>1.03</td>\n",
       "      <td>1.02</td>\n",
       "      <td>1</td>\n",
       "      <td>4</td>\n",
       "      <td>9</td>\n",
       "      <td>15</td>\n",
       "      <td>28</td>\n",
       "      <td>6.74</td>\n",
       "      <td>79.0</td>\n",
       "      <td>38.0</td>\n",
       "      <td>140.0</td>\n",
       "      <td>0.38</td>\n",
       "      <td>2.0</td>\n",
       "      <td>1.3</td>\n",
       "      <td>0.033</td>\n",
       "      <td>2.538462</td>\n",
       "      <td>-0.01</td>\n",
       "    </tr>\n",
       "    <tr>\n",
       "      <th>2</th>\n",
       "      <td>GW1</td>\n",
       "      <td>11/02/2021</td>\n",
       "      <td>3.90</td>\n",
       "      <td>2.00</td>\n",
       "      <td>3.90</td>\n",
       "      <td>5</td>\n",
       "      <td>25</td>\n",
       "      <td>67</td>\n",
       "      <td>52</td>\n",
       "      <td>150</td>\n",
       "      <td>6.74</td>\n",
       "      <td>79.0</td>\n",
       "      <td>38.0</td>\n",
       "      <td>140.0</td>\n",
       "      <td>0.38</td>\n",
       "      <td>2.0</td>\n",
       "      <td>1.3</td>\n",
       "      <td>0.033</td>\n",
       "      <td>2.538462</td>\n",
       "      <td>1.90</td>\n",
       "    </tr>\n",
       "    <tr>\n",
       "      <th>3</th>\n",
       "      <td>GW1</td>\n",
       "      <td>11/02/2021</td>\n",
       "      <td>5.80</td>\n",
       "      <td>3.50</td>\n",
       "      <td>5.80</td>\n",
       "      <td>11</td>\n",
       "      <td>37</td>\n",
       "      <td>65</td>\n",
       "      <td>27</td>\n",
       "      <td>140</td>\n",
       "      <td>6.74</td>\n",
       "      <td>79.0</td>\n",
       "      <td>38.0</td>\n",
       "      <td>140.0</td>\n",
       "      <td>0.38</td>\n",
       "      <td>2.0</td>\n",
       "      <td>1.3</td>\n",
       "      <td>0.033</td>\n",
       "      <td>2.538462</td>\n",
       "      <td>2.30</td>\n",
       "    </tr>\n",
       "    <tr>\n",
       "      <th>4</th>\n",
       "      <td>GW1</td>\n",
       "      <td>11/02/2021</td>\n",
       "      <td>9.80</td>\n",
       "      <td>7.00</td>\n",
       "      <td>9.80</td>\n",
       "      <td>17</td>\n",
       "      <td>32</td>\n",
       "      <td>42</td>\n",
       "      <td>13</td>\n",
       "      <td>100</td>\n",
       "      <td>6.74</td>\n",
       "      <td>79.0</td>\n",
       "      <td>38.0</td>\n",
       "      <td>140.0</td>\n",
       "      <td>0.38</td>\n",
       "      <td>2.0</td>\n",
       "      <td>1.3</td>\n",
       "      <td>0.033</td>\n",
       "      <td>2.538462</td>\n",
       "      <td>2.80</td>\n",
       "    </tr>\n",
       "  </tbody>\n",
       "</table>\n",
       "</div>"
      ],
      "text/plain": [
       "  Code        Date    T0  T0.5  Dose Rate (mg/L)  CHCl3  CHCl2Br  CHClBr2  \\\n",
       "0  GW1  11/02/2021  0.98  0.79              0.98      1        2        4   \n",
       "1  GW1  11/02/2021  1.02  1.03              1.02      1        4        9   \n",
       "2  GW1  11/02/2021  3.90  2.00              3.90      5       25       67   \n",
       "3  GW1  11/02/2021  5.80  3.50              5.80     11       37       65   \n",
       "4  GW1  11/02/2021  9.80  7.00              9.80     17       32       42   \n",
       "\n",
       "   CHBr3  TTHM    pH  COND  Turb     Cl    Br  COLOUR  FOC    UVA      SUVA  \\\n",
       "0      5    11  6.74  79.0  38.0  140.0  0.38     2.0  1.3  0.033  2.538462   \n",
       "1     15    28  6.74  79.0  38.0  140.0  0.38     2.0  1.3  0.033  2.538462   \n",
       "2     52   150  6.74  79.0  38.0  140.0  0.38     2.0  1.3  0.033  2.538462   \n",
       "3     27   140  6.74  79.0  38.0  140.0  0.38     2.0  1.3  0.033  2.538462   \n",
       "4     13   100  6.74  79.0  38.0  140.0  0.38     2.0  1.3  0.033  2.538462   \n",
       "\n",
       "   30 min decay  \n",
       "0          0.19  \n",
       "1         -0.01  \n",
       "2          1.90  \n",
       "3          2.30  \n",
       "4          2.80  "
      ]
     },
     "execution_count": 98,
     "metadata": {},
     "output_type": "execute_result"
    }
   ],
   "source": [
    "data.head()"
   ]
  },
  {
   "cell_type": "code",
   "execution_count": 76,
   "id": "daf84448",
   "metadata": {},
   "outputs": [
    {
     "name": "stdout",
     "output_type": "stream",
     "text": [
      "(407, 4) (407, 1)\n"
     ]
    }
   ],
   "source": [
    "# define original X and Y\n",
    "# X = data[[\"UVA\",\"FOC\",\"pH\",\"Dose Rate (mg/L)\"]]\n",
    "# y = data[\"TTHM\"].values.reshape(-1, 1)\n",
    "# print(X.shape, y.shape)"
   ]
  },
  {
   "cell_type": "code",
   "execution_count": null,
   "id": "02289888",
   "metadata": {},
   "outputs": [],
   "source": [
    "# get key parameters\n",
    "TTHM = data['TTHM']\n",
    "Dose = data[\"Dose Rate (mg/L)\"]\n",
    "decay = data[\"30 min decay\"]"
   ]
  },
  {
   "cell_type": "code",
   "execution_count": 193,
   "id": "4f4d3dcc",
   "metadata": {},
   "outputs": [
    {
     "data": {
      "text/plain": [
       "<matplotlib.collections.PathCollection at 0x29f09e35f70>"
      ]
     },
     "execution_count": 193,
     "metadata": {},
     "output_type": "execute_result"
    },
    {
     "data": {
      "image/png": "[encoded data removed]",
      "text/plain": [
       "<Figure size 432x288 with 1 Axes>"
      ]
     },
     "metadata": {
      "needs_background": "light"
     },
     "output_type": "display_data"
    }
   ],
   "source": [
    "# plot\n",
    "plt.scatter(decay,TTHM)"
   ]
  },
  {
   "cell_type": "code",
   "execution_count": 194,
   "id": "882ca720",
   "metadata": {},
   "outputs": [
    {
     "data": {
      "text/plain": [
       "<matplotlib.collections.PathCollection at 0x29f089b9ca0>"
      ]
     },
     "execution_count": 194,
     "metadata": {},
     "output_type": "execute_result"
    },
    {
     "data": {
      "image/png": "[encoded data removed]",
      "text/plain": [
       "<Figure size 432x288 with 1 Axes>"
      ]
     },
     "metadata": {
      "needs_background": "light"
     },
     "output_type": "display_data"
    }
   ],
   "source": [
    "#plot\n",
    "plt.scatter(TTHM.index,TTHM)"
   ]
  },
  {
   "cell_type": "code",
   "execution_count": null,
   "id": "3e68e96b",
   "metadata": {},
   "outputs": [],
   "source": []
  },
  {
   "cell_type": "code",
   "execution_count": 77,
   "id": "c2c6844e",
   "metadata": {},
   "outputs": [],
   "source": []
  },
  {
   "cell_type": "code",
   "execution_count": null,
   "id": "79d3facb",
   "metadata": {},
   "outputs": [],
   "source": []
  },
  {
   "cell_type": "code",
   "execution_count": 78,
   "id": "33a1b265",
   "metadata": {},
   "outputs": [],
   "source": []
  },
  {
   "cell_type": "code",
   "execution_count": 79,
   "id": "01c03c82",
   "metadata": {},
   "outputs": [],
   "source": [
    "\n"
   ]
  },
  {
   "cell_type": "code",
   "execution_count": 80,
   "id": "d1d5e16c",
   "metadata": {},
   "outputs": [
    {
     "name": "stdout",
     "output_type": "stream",
     "text": [
      "Training Score: 0.5046195266275988\n",
      "Testing Score: 0.32650899855389526\n"
     ]
    }
   ],
   "source": [
    "\n",
    "\n"
   ]
  },
  {
   "cell_type": "code",
   "execution_count": 73,
   "id": "0e8f45e8",
   "metadata": {},
   "outputs": [],
   "source": [
    "#find outlier\n",
    "outlier = data[(data['TTHM'] > 300) & (data['Dose Rate (mg/L)'] < 2)]"
   ]
  },
  {
   "cell_type": "code",
   "execution_count": 99,
   "id": "0e3d82a5",
   "metadata": {},
   "outputs": [],
   "source": [
    "outlier"
   ]
  },
  {
   "cell_type": "code",
   "execution_count": 136,
   "id": "37f7dd0d",
   "metadata": {},
   "outputs": [
    {
     "data": {
      "text/plain": [
       "<matplotlib.collections.PathCollection at 0x29f08a9fdf0>"
      ]
     },
     "execution_count": 136,
     "metadata": {},
     "output_type": "execute_result"
    },
    {
     "data": {
      "image/png": "[encoded data removed]",
      "text/plain": [
       "<Figure size 432x288 with 1 Axes>"
      ]
     },
     "metadata": {
      "needs_background": "light"
     },
     "output_type": "display_data"
    }
   ],
   "source": [
    "#remove outlier\n",
    "cleaneddata = data[data[\"Code\"] != \"SW23\"]"
   ]
  },
  {
   "cell_type": "code",
   "execution_count": 139,
   "id": "48d286d5",
   "metadata": {},
   "outputs": [
    {
     "data": {
      "text/plain": [
       "<matplotlib.collections.PathCollection at 0x29f08b388e0>"
      ]
     },
     "execution_count": 139,
     "metadata": {},
     "output_type": "execute_result"
    },
    {
     "data": {
      "image/png": "[encoded data removed]",
      "text/plain": [
       "<Figure size 432x288 with 1 Axes>"
      ]
     },
     "metadata": {
      "needs_background": "light"
     },
     "output_type": "display_data"
    }
   ],
   "source": [
    "cleaneddata.shape"
   ]
  },
  {
   "cell_type": "code",
   "execution_count": 101,
   "id": "397b306b",
   "metadata": {},
   "outputs": [],
   "source": [
    "# create Xs and y\n",
    "X = cleaneddata[[\"UVA\",\"FOC\",\"pH\",\"Dose Rate (mg/L)\",\"30 min decay\",\"Br\",\"COLOUR\",\"Turb\",\"Cl\",\"COND\"]]\n",
    "y = cleaneddata[\"TTHM\"].values.reshape(-1, 1)\n",
    "print(X.shape, y.shape)"
   ]
  },
  {
   "cell_type": "code",
   "execution_count": 102,
   "id": "90102197",
   "metadata": {},
   "outputs": [
    {
     "data": {
      "text/html": [
       "<div>\n",
       "<style scoped>\n",
       "    .dataframe tbody tr th:only-of-type {\n",
       "        vertical-align: middle;\n",
       "    }\n",
       "\n",
       "    .dataframe tbody tr th {\n",
       "        vertical-align: top;\n",
       "    }\n",
       "\n",
       "    .dataframe thead th {\n",
       "        text-align: right;\n",
       "    }\n",
       "</style>\n",
       "<table border=\"1\" class=\"dataframe\">\n",
       "  <thead>\n",
       "    <tr style=\"text-align: right;\">\n",
       "      <th></th>\n",
       "      <th>Code</th>\n",
       "      <th>Date</th>\n",
       "      <th>T0</th>\n",
       "      <th>T0.5</th>\n",
       "      <th>Dose Rate (mg/L)</th>\n",
       "      <th>CHCl3</th>\n",
       "      <th>CHCl2Br</th>\n",
       "      <th>CHClBr2</th>\n",
       "      <th>CHBr3</th>\n",
       "      <th>TTHM</th>\n",
       "      <th>pH</th>\n",
       "      <th>COND</th>\n",
       "      <th>Turb</th>\n",
       "      <th>Cl</th>\n",
       "      <th>Br</th>\n",
       "      <th>COLOUR</th>\n",
       "      <th>FOC</th>\n",
       "      <th>UVA</th>\n",
       "      <th>SUVA</th>\n",
       "      <th>30 min decay</th>\n",
       "    </tr>\n",
       "  </thead>\n",
       "  <tbody>\n",
       "    <tr>\n",
       "      <th>291</th>\n",
       "      <td>SW23</td>\n",
       "      <td>14/05/2021</td>\n",
       "      <td>9.6</td>\n",
       "      <td>7.7</td>\n",
       "      <td>1.0</td>\n",
       "      <td>370</td>\n",
       "      <td>25</td>\n",
       "      <td>1</td>\n",
       "      <td>1</td>\n",
       "      <td>400</td>\n",
       "      <td>7.27</td>\n",
       "      <td>8.0</td>\n",
       "      <td>4.2</td>\n",
       "      <td>14.0</td>\n",
       "      <td>0.03</td>\n",
       "      <td>13.0</td>\n",
       "      <td>5.8</td>\n",
       "      <td>0.11</td>\n",
       "      <td>1.896552</td>\n",
       "      <td>1.9</td>\n",
       "    </tr>\n",
       "  </tbody>\n",
       "</table>\n",
       "</div>"
      ],
      "text/plain": [
       "     Code        Date   T0  T0.5  Dose Rate (mg/L)  CHCl3  CHCl2Br  CHClBr2  \\\n",
       "291  SW23  14/05/2021  9.6   7.7               1.0    370       25        1   \n",
       "\n",
       "     CHBr3  TTHM    pH  COND  Turb    Cl    Br  COLOUR  FOC   UVA      SUVA  \\\n",
       "291      1   400  7.27   8.0   4.2  14.0  0.03    13.0  5.8  0.11  1.896552   \n",
       "\n",
       "     30 min decay  \n",
       "291           1.9  "
      ]
     },
     "execution_count": 102,
     "metadata": {},
     "output_type": "execute_result"
    }
   ],
   "source": [
    "from sklearn.model_selection import train_test_split\n",
    "\n",
    "# initial X, Y split\n",
    "X_train, X_test, y_train, y_test = train_test_split(X, y, random_state=42)"
   ]
  },
  {
   "cell_type": "code",
   "execution_count": 103,
   "id": "9e9dcc02",
   "metadata": {},
   "outputs": [],
   "source": [
    "# initial model\n",
    "model = LinearRegression()"
   ]
  },
  {
   "cell_type": "code",
   "execution_count": 104,
   "id": "46dfece0",
   "metadata": {},
   "outputs": [
    {
     "data": {
      "text/plain": [
       "(402, 20)"
      ]
     },
     "execution_count": 104,
     "metadata": {},
     "output_type": "execute_result"
    }
   ],
   "source": [
    "# fit initial model\n",
    "\n",
    "model.fit(X_train, y_train)\n",
    "training_score = model.score(X_train, y_train)\n",
    "testing_score = model.score(X_test, y_test)\n",
    "print(f\"Training Score: {training_score}\")\n",
    "print(f\"Testing Score: {testing_score}\")"
   ]
  },
  {
   "cell_type": "code",
   "execution_count": 183,
   "id": "747dcb48",
   "metadata": {},
   "outputs": [
    {
     "name": "stdout",
     "output_type": "stream",
     "text": [
      "(402, 10) (402, 1)\n"
     ]
    }
   ],
   "source": []
  },
  {
   "cell_type": "code",
   "execution_count": 184,
   "id": "f7853b58",
   "metadata": {},
   "outputs": [],
   "source": [
    "# X_train, X_test, y_train, y_test = train_test_split(X, y)"
   ]
  },
  {
   "cell_type": "code",
   "execution_count": 168,
   "id": "d7bdf17b",
   "metadata": {},
   "outputs": [],
   "source": [
    "# model = LinearRegression()"
   ]
  },
  {
   "cell_type": "code",
   "execution_count": 169,
   "id": "a59b5016",
   "metadata": {},
   "outputs": [],
   "source": [
    "# model.fit(X_train, y_train)\n",
    "# training_score = model.score(X_train, y_train)\n",
    "# testing_score = model.score(X_test, y_test)"
   ]
  },
  {
   "cell_type": "code",
   "execution_count": 170,
   "id": "62e22344",
   "metadata": {},
   "outputs": [
    {
     "name": "stdout",
     "output_type": "stream",
     "text": [
      "Training Score: 0.5338577521519948\n",
      "Testing Score: 0.38355560377186126\n"
     ]
    }
   ],
   "source": [
    "# print(f\"Training Score: {training_score}\")\n",
    "# print(f\"Testing Score: {testing_score}\")"
   ]
  },
  {
   "cell_type": "code",
   "execution_count": 133,
   "id": "9abc1a09",
   "metadata": {},
   "outputs": [
    {
     "data": {
      "text/plain": [
       "Text(0.5, 1.0, 'Residual Plot')"
      ]
     },
     "execution_count": 133,
     "metadata": {},
     "output_type": "execute_result"
    },
    {
     "data": {
      "image/png": "[encoded data removed]",
      "text/plain": [
       "<Figure size 432x288 with 1 Axes>"
      ]
     },
     "metadata": {
      "needs_background": "light"
     },
     "output_type": "display_data"
    }
   ],
   "source": [
    "# residual scatter plot\n",
    "plt.scatter(model.predict(X_train), model.predict(X_train) - y_train, c=\"blue\", label=\"Training Data\")\n",
    "plt.scatter(model.predict(X_test), model.predict(X_test) - y_test, c=\"orange\", label=\"Testing Data\")\n",
    "plt.legend()\n",
    "plt.hlines(y=0, xmin=y.min(), xmax=y.max())\n",
    "plt.title(\"Residual Plot\")"
   ]
  },
  {
   "cell_type": "code",
   "execution_count": 153,
   "id": "605960c8",
   "metadata": {},
   "outputs": [
    {
     "data": {
      "text/plain": [
       "array([[ 0.61196157, -0.30994793, -0.52480136, ..., -0.39423267,\n",
       "        -0.4385269 , -0.08630857],\n",
       "       [ 3.16321408,  0.64203499, -1.14881743, ..., -0.09666571,\n",
       "        -0.31883467, -0.31291563],\n",
       "       [ 2.45942028, -0.52149969, -1.7728335 , ..., -0.33755325,\n",
       "        -0.46844996, -0.53952268],\n",
       "       ...,\n",
       "       [-0.05664254, -0.68016351, -0.52480136, ..., -0.26670397,\n",
       "        -0.28891161,  0.10792605],\n",
       "       [ 0.48879765,  2.01712143,  1.92669033, ..., -0.16751499,\n",
       "        -0.61806526, -0.28054319],\n",
       "       [ 2.81131718,  0.43048323, -1.23796258, ...,  0.79603514,\n",
       "        -0.19914243, -0.28054319]])"
      ]
     },
     "execution_count": 153,
     "metadata": {},
     "output_type": "execute_result"
    }
   ],
   "source": []
  },
  {
   "cell_type": "code",
   "execution_count": 185,
   "id": "cdab2a4c",
   "metadata": {},
   "outputs": [],
   "source": [
    "# Standard scale\n",
    "\n",
    "from sklearn.preprocessing import StandardScaler\n",
    "X_scaler = StandardScaler().fit(X_train)\n",
    "y_scaler = StandardScaler().fit(y_train)"
   ]
  },
  {
   "cell_type": "code",
   "execution_count": 164,
   "id": "3f21dd11",
   "metadata": {},
   "outputs": [
    {
     "name": "stderr",
     "output_type": "stream",
     "text": [
      "<ipython-input-164-7add320296b4>:1: SettingWithCopyWarning: \n",
      "A value is trying to be set on a copy of a slice from a DataFrame.\n",
      "Try using .loc[row_indexer,col_indexer] = value instead\n",
      "\n",
      "See the caveats in the documentation: https://pandas.pydata.org/pandas-docs/stable/user_guide/indexing.html#returning-a-view-versus-a-copy\n",
      "  X[X.columns] = X_scaler.fit_transform(X[X.columns])\n",
      "C:\\Users\\fernb\\anaconda3\\lib\\site-packages\\pandas\\core\\indexing.py:1637: SettingWithCopyWarning: \n",
      "A value is trying to be set on a copy of a slice from a DataFrame\n",
      "\n",
      "See the caveats in the documentation: https://pandas.pydata.org/pandas-docs/stable/user_guide/indexing.html#returning-a-view-versus-a-copy\n",
      "  self._setitem_single_block(indexer, value, name)\n",
      "C:\\Users\\fernb\\anaconda3\\lib\\site-packages\\pandas\\core\\indexing.py:692: SettingWithCopyWarning: \n",
      "A value is trying to be set on a copy of a slice from a DataFrame\n",
      "\n",
      "See the caveats in the documentation: https://pandas.pydata.org/pandas-docs/stable/user_guide/indexing.html#returning-a-view-versus-a-copy\n",
      "  iloc._setitem_with_indexer(indexer, value, self.name)\n"
     ]
    }
   ],
   "source": [
    "\n",
    "# X[X.columns] = X_scaler.fit_transform(X[X.columns])"
   ]
  },
  {
   "cell_type": "code",
   "execution_count": 182,
   "id": "2638c78f",
   "metadata": {},
   "outputs": [
    {
     "data": {
      "text/plain": [
       "array([[-0.60032041, -0.7078726 , -0.80573975, ..., -0.34899453,\n",
       "        -0.65843247, -0.79206364],\n",
       "       [ 0.34536059,  0.94692653, -0.44387068, ..., -0.29052933,\n",
       "        -0.53947912, -0.6811821 ],\n",
       "       [ 3.21808968,  0.71867837, -1.1826867 , ..., -0.08590112,\n",
       "        -0.33131076, -0.31685703],\n",
       "       ...,\n",
       "       [ 0.05987199, -0.7078726 , -1.57471152, ...,  2.04807878,\n",
       "        -0.15288074, -0.23765593],\n",
       "       [-0.52894826, -0.53668649,  0.27986745, ..., -0.39284343,\n",
       "        -0.18261908, -0.26933637],\n",
       "       [ 0.82712261,  1.51754692, -0.06692374, ..., -0.42207603,\n",
       "         0.65005436,  0.42763332]])"
      ]
     },
     "execution_count": 182,
     "metadata": {},
     "output_type": "execute_result"
    }
   ],
   "source": [
    "X_train_scaled"
   ]
  },
  {
   "cell_type": "code",
   "execution_count": null,
   "id": "4f2c5d42",
   "metadata": {},
   "outputs": [],
   "source": [
    "# X2_train, X2_test, y2_train, y2_test = train_test_split(X2, encoded_y, random_state=42)\n",
    "# X2_train_scaled = X2_scaler.transform(X2_train)\n",
    "# X2_test_scaled = X2_scaler.transform(X2_test)"
   ]
  },
  {
   "cell_type": "code",
   "execution_count": 177,
   "id": "80bc94f4",
   "metadata": {},
   "outputs": [],
   "source": [
    "# X_train, X_test, y_train, y_test = train_test_split(X, y)"
   ]
  },
  {
   "cell_type": "code",
   "execution_count": 186,
   "id": "3efc5087",
   "metadata": {},
   "outputs": [],
   "source": [
    "# standard scaled X and Y\n",
    "X_train_scaled = X_scaler.transform(X_train)\n",
    "X_test_scaled = X_scaler.transform(X_test)\n",
    "y_train_scaled = y_scaler.transform(y_train)\n",
    "y_test_scaled = y_scaler.transform(y_test)"
   ]
  },
  {
   "cell_type": "code",
   "execution_count": 187,
   "id": "2e8f321c",
   "metadata": {},
   "outputs": [],
   "source": [
    "#scaled model\n",
    "model2 = LinearRegression()"
   ]
  },
  {
   "cell_type": "code",
   "execution_count": 188,
   "id": "3fb2941b",
   "metadata": {},
   "outputs": [],
   "source": [
    "#git scaled model\n",
    "model2.fit(X_train_scaled, y_train_scaled)\n",
    "training_score2 = model2.score(X_train_scaled, y_train_scaled)\n",
    "testing_score2 = model2.score(X_test_scaled, y_test_scaled)"
   ]
  },
  {
   "cell_type": "code",
   "execution_count": 189,
   "id": "3826a33a",
   "metadata": {},
   "outputs": [
    {
     "name": "stdout",
     "output_type": "stream",
     "text": [
      "Training Score: 0.5034594832523421\n",
      "Testing Score: 0.5086517037542428\n"
     ]
    }
   ],
   "source": [
    "print(f\"Training Score: {training_score2}\")\n",
    "print(f\"Testing Score: {testing_score2}\")"
   ]
  },
  {
   "cell_type": "code",
   "execution_count": 192,
   "id": "1cd189ca",
   "metadata": {},
   "outputs": [
    {
     "data": {
      "text/plain": [
       "Text(0.5, 1.0, 'Residual Plot')"
      ]
     },
     "execution_count": 192,
     "metadata": {},
     "output_type": "execute_result"
    },
    {
     "data": {
      "image/png": "[encoded data removed]",
      "text/plain": [
       "<Figure size 432x288 with 1 Axes>"
      ]
     },
     "metadata": {
      "needs_background": "light"
     },
     "output_type": "display_data"
    }
   ],
   "source": [
    "plt.scatter(model2.predict(X_train_scaled), model2.predict(X_train_scaled) - y_train_scaled, c=\"blue\", label=\"Training Data\")\n",
    "plt.scatter(model2.predict(X_test_scaled), model2.predict(X_test_scaled) - y_test_scaled, c=\"orange\", label=\"Testing Data\")\n",
    "plt.legend()\n",
    "plt.hlines(y=0, xmin=y_train_scaled.min(), xmax=y_train_scaled.max())\n",
    "plt.title(\"Residual Plot\")"
   ]
  },
  {
   "cell_type": "code",
   "execution_count": null,
   "id": "5458f96a",
   "metadata": {},
   "outputs": [],
   "source": []
  },
  {
   "cell_type": "code",
   "execution_count": null,
   "id": "bacabe2a",
   "metadata": {},
   "outputs": [],
   "source": []
  },
  {
   "cell_type": "code",
   "execution_count": 140,
   "id": "eeb69d42",
   "metadata": {},
   "outputs": [],
   "source": [
    "Ordered = TTHM.sort_values()"
   ]
  },
  {
   "cell_type": "code",
   "execution_count": 141,
   "id": "39c9af04",
   "metadata": {},
   "outputs": [
    {
     "data": {
      "text/plain": [
       "85       1\n",
       "70       1\n",
       "75       2\n",
       "397      3\n",
       "80       3\n",
       "      ... \n",
       "466    430\n",
       "306    430\n",
       "471    450\n",
       "481    460\n",
       "301    500\n",
       "Name: TTHM, Length: 407, dtype: int64"
      ]
     },
     "execution_count": 141,
     "metadata": {},
     "output_type": "execute_result"
    }
   ],
   "source": [
    "Ordered"
   ]
  },
  {
   "cell_type": "code",
   "execution_count": 201,
   "id": "61bf2099",
   "metadata": {},
   "outputs": [],
   "source": [
    "ranges = {2:250,1:150,0:50}"
   ]
  },
  {
   "cell_type": "code",
   "execution_count": 202,
   "id": "50c81163",
   "metadata": {},
   "outputs": [],
   "source": [
    "cleaneddata[\"classification\"] = [\"H\" if x >= 250 else \"M\" if x >= 150 else \"L\" for x in cleaneddata[\"TTHM\"]]"
   ]
  },
  {
   "cell_type": "code",
   "execution_count": 203,
   "id": "e3499e8f",
   "metadata": {},
   "outputs": [
    {
     "data": {
      "text/html": [
       "<div>\n",
       "<style scoped>\n",
       "    .dataframe tbody tr th:only-of-type {\n",
       "        vertical-align: middle;\n",
       "    }\n",
       "\n",
       "    .dataframe tbody tr th {\n",
       "        vertical-align: top;\n",
       "    }\n",
       "\n",
       "    .dataframe thead th {\n",
       "        text-align: right;\n",
       "    }\n",
       "</style>\n",
       "<table border=\"1\" class=\"dataframe\">\n",
       "  <thead>\n",
       "    <tr style=\"text-align: right;\">\n",
       "      <th></th>\n",
       "      <th>Code</th>\n",
       "      <th>Date</th>\n",
       "      <th>T0</th>\n",
       "      <th>T0.5</th>\n",
       "      <th>Dose Rate (mg/L)</th>\n",
       "      <th>CHCl3</th>\n",
       "      <th>CHCl2Br</th>\n",
       "      <th>CHClBr2</th>\n",
       "      <th>CHBr3</th>\n",
       "      <th>TTHM</th>\n",
       "      <th>...</th>\n",
       "      <th>COND</th>\n",
       "      <th>Turb</th>\n",
       "      <th>Cl</th>\n",
       "      <th>Br</th>\n",
       "      <th>COLOUR</th>\n",
       "      <th>FOC</th>\n",
       "      <th>UVA</th>\n",
       "      <th>SUVA</th>\n",
       "      <th>30 min decay</th>\n",
       "      <th>classification</th>\n",
       "    </tr>\n",
       "  </thead>\n",
       "  <tbody>\n",
       "    <tr>\n",
       "      <th>0</th>\n",
       "      <td>GW1</td>\n",
       "      <td>11/02/2021</td>\n",
       "      <td>0.98</td>\n",
       "      <td>0.79</td>\n",
       "      <td>0.98</td>\n",
       "      <td>1</td>\n",
       "      <td>2</td>\n",
       "      <td>4</td>\n",
       "      <td>5</td>\n",
       "      <td>11</td>\n",
       "      <td>...</td>\n",
       "      <td>79.0</td>\n",
       "      <td>38.0</td>\n",
       "      <td>140.0</td>\n",
       "      <td>0.38</td>\n",
       "      <td>2.0</td>\n",
       "      <td>1.3</td>\n",
       "      <td>0.033</td>\n",
       "      <td>2.538462</td>\n",
       "      <td>0.19</td>\n",
       "      <td>0</td>\n",
       "    </tr>\n",
       "    <tr>\n",
       "      <th>1</th>\n",
       "      <td>GW1</td>\n",
       "      <td>11/02/2021</td>\n",
       "      <td>1.02</td>\n",
       "      <td>1.03</td>\n",
       "      <td>1.02</td>\n",
       "      <td>1</td>\n",
       "      <td>4</td>\n",
       "      <td>9</td>\n",
       "      <td>15</td>\n",
       "      <td>28</td>\n",
       "      <td>...</td>\n",
       "      <td>79.0</td>\n",
       "      <td>38.0</td>\n",
       "      <td>140.0</td>\n",
       "      <td>0.38</td>\n",
       "      <td>2.0</td>\n",
       "      <td>1.3</td>\n",
       "      <td>0.033</td>\n",
       "      <td>2.538462</td>\n",
       "      <td>-0.01</td>\n",
       "      <td>0</td>\n",
       "    </tr>\n",
       "    <tr>\n",
       "      <th>2</th>\n",
       "      <td>GW1</td>\n",
       "      <td>11/02/2021</td>\n",
       "      <td>3.90</td>\n",
       "      <td>2.00</td>\n",
       "      <td>3.90</td>\n",
       "      <td>5</td>\n",
       "      <td>25</td>\n",
       "      <td>67</td>\n",
       "      <td>52</td>\n",
       "      <td>150</td>\n",
       "      <td>...</td>\n",
       "      <td>79.0</td>\n",
       "      <td>38.0</td>\n",
       "      <td>140.0</td>\n",
       "      <td>0.38</td>\n",
       "      <td>2.0</td>\n",
       "      <td>1.3</td>\n",
       "      <td>0.033</td>\n",
       "      <td>2.538462</td>\n",
       "      <td>1.90</td>\n",
       "      <td>1</td>\n",
       "    </tr>\n",
       "    <tr>\n",
       "      <th>3</th>\n",
       "      <td>GW1</td>\n",
       "      <td>11/02/2021</td>\n",
       "      <td>5.80</td>\n",
       "      <td>3.50</td>\n",
       "      <td>5.80</td>\n",
       "      <td>11</td>\n",
       "      <td>37</td>\n",
       "      <td>65</td>\n",
       "      <td>27</td>\n",
       "      <td>140</td>\n",
       "      <td>...</td>\n",
       "      <td>79.0</td>\n",
       "      <td>38.0</td>\n",
       "      <td>140.0</td>\n",
       "      <td>0.38</td>\n",
       "      <td>2.0</td>\n",
       "      <td>1.3</td>\n",
       "      <td>0.033</td>\n",
       "      <td>2.538462</td>\n",
       "      <td>2.30</td>\n",
       "      <td>0</td>\n",
       "    </tr>\n",
       "    <tr>\n",
       "      <th>4</th>\n",
       "      <td>GW1</td>\n",
       "      <td>11/02/2021</td>\n",
       "      <td>9.80</td>\n",
       "      <td>7.00</td>\n",
       "      <td>9.80</td>\n",
       "      <td>17</td>\n",
       "      <td>32</td>\n",
       "      <td>42</td>\n",
       "      <td>13</td>\n",
       "      <td>100</td>\n",
       "      <td>...</td>\n",
       "      <td>79.0</td>\n",
       "      <td>38.0</td>\n",
       "      <td>140.0</td>\n",
       "      <td>0.38</td>\n",
       "      <td>2.0</td>\n",
       "      <td>1.3</td>\n",
       "      <td>0.033</td>\n",
       "      <td>2.538462</td>\n",
       "      <td>2.80</td>\n",
       "      <td>0</td>\n",
       "    </tr>\n",
       "    <tr>\n",
       "      <th>...</th>\n",
       "      <td>...</td>\n",
       "      <td>...</td>\n",
       "      <td>...</td>\n",
       "      <td>...</td>\n",
       "      <td>...</td>\n",
       "      <td>...</td>\n",
       "      <td>...</td>\n",
       "      <td>...</td>\n",
       "      <td>...</td>\n",
       "      <td>...</td>\n",
       "      <td>...</td>\n",
       "      <td>...</td>\n",
       "      <td>...</td>\n",
       "      <td>...</td>\n",
       "      <td>...</td>\n",
       "      <td>...</td>\n",
       "      <td>...</td>\n",
       "      <td>...</td>\n",
       "      <td>...</td>\n",
       "      <td>...</td>\n",
       "      <td>...</td>\n",
       "    </tr>\n",
       "    <tr>\n",
       "      <th>604</th>\n",
       "      <td>SW57</td>\n",
       "      <td>28/01/2014</td>\n",
       "      <td>0.90</td>\n",
       "      <td>0.60</td>\n",
       "      <td>0.90</td>\n",
       "      <td>1</td>\n",
       "      <td>3</td>\n",
       "      <td>13</td>\n",
       "      <td>46</td>\n",
       "      <td>62</td>\n",
       "      <td>...</td>\n",
       "      <td>40.0</td>\n",
       "      <td>0.6</td>\n",
       "      <td>80.0</td>\n",
       "      <td>0.26</td>\n",
       "      <td>2.0</td>\n",
       "      <td>2.4</td>\n",
       "      <td>0.018</td>\n",
       "      <td>0.750000</td>\n",
       "      <td>0.30</td>\n",
       "      <td>0</td>\n",
       "    </tr>\n",
       "    <tr>\n",
       "      <th>605</th>\n",
       "      <td>SW57</td>\n",
       "      <td>28/01/2014</td>\n",
       "      <td>2.00</td>\n",
       "      <td>1.50</td>\n",
       "      <td>2.00</td>\n",
       "      <td>3</td>\n",
       "      <td>11</td>\n",
       "      <td>42</td>\n",
       "      <td>65</td>\n",
       "      <td>121</td>\n",
       "      <td>...</td>\n",
       "      <td>40.0</td>\n",
       "      <td>0.6</td>\n",
       "      <td>80.0</td>\n",
       "      <td>0.26</td>\n",
       "      <td>2.0</td>\n",
       "      <td>2.4</td>\n",
       "      <td>0.018</td>\n",
       "      <td>0.750000</td>\n",
       "      <td>0.50</td>\n",
       "      <td>0</td>\n",
       "    </tr>\n",
       "    <tr>\n",
       "      <th>606</th>\n",
       "      <td>SW57</td>\n",
       "      <td>28/01/2014</td>\n",
       "      <td>3.90</td>\n",
       "      <td>3.80</td>\n",
       "      <td>3.90</td>\n",
       "      <td>11</td>\n",
       "      <td>35</td>\n",
       "      <td>67</td>\n",
       "      <td>45</td>\n",
       "      <td>158</td>\n",
       "      <td>...</td>\n",
       "      <td>40.0</td>\n",
       "      <td>0.6</td>\n",
       "      <td>80.0</td>\n",
       "      <td>0.26</td>\n",
       "      <td>2.0</td>\n",
       "      <td>2.4</td>\n",
       "      <td>0.018</td>\n",
       "      <td>0.750000</td>\n",
       "      <td>0.10</td>\n",
       "      <td>1</td>\n",
       "    </tr>\n",
       "    <tr>\n",
       "      <th>607</th>\n",
       "      <td>SW57</td>\n",
       "      <td>28/01/2014</td>\n",
       "      <td>5.90</td>\n",
       "      <td>5.90</td>\n",
       "      <td>5.90</td>\n",
       "      <td>13</td>\n",
       "      <td>44</td>\n",
       "      <td>67</td>\n",
       "      <td>50</td>\n",
       "      <td>174</td>\n",
       "      <td>...</td>\n",
       "      <td>40.0</td>\n",
       "      <td>0.6</td>\n",
       "      <td>80.0</td>\n",
       "      <td>0.26</td>\n",
       "      <td>2.0</td>\n",
       "      <td>2.4</td>\n",
       "      <td>0.018</td>\n",
       "      <td>0.750000</td>\n",
       "      <td>0.00</td>\n",
       "      <td>1</td>\n",
       "    </tr>\n",
       "    <tr>\n",
       "      <th>608</th>\n",
       "      <td>SW57</td>\n",
       "      <td>28/01/2014</td>\n",
       "      <td>9.60</td>\n",
       "      <td>9.60</td>\n",
       "      <td>9.60</td>\n",
       "      <td>29</td>\n",
       "      <td>63</td>\n",
       "      <td>71</td>\n",
       "      <td>35</td>\n",
       "      <td>198</td>\n",
       "      <td>...</td>\n",
       "      <td>40.0</td>\n",
       "      <td>0.6</td>\n",
       "      <td>80.0</td>\n",
       "      <td>0.26</td>\n",
       "      <td>2.0</td>\n",
       "      <td>2.4</td>\n",
       "      <td>0.018</td>\n",
       "      <td>0.750000</td>\n",
       "      <td>0.00</td>\n",
       "      <td>1</td>\n",
       "    </tr>\n",
       "  </tbody>\n",
       "</table>\n",
       "<p>402 rows × 21 columns</p>\n",
       "</div>"
      ],
      "text/plain": [
       "     Code        Date    T0  T0.5  Dose Rate (mg/L)  CHCl3  CHCl2Br  CHClBr2  \\\n",
       "0     GW1  11/02/2021  0.98  0.79              0.98      1        2        4   \n",
       "1     GW1  11/02/2021  1.02  1.03              1.02      1        4        9   \n",
       "2     GW1  11/02/2021  3.90  2.00              3.90      5       25       67   \n",
       "3     GW1  11/02/2021  5.80  3.50              5.80     11       37       65   \n",
       "4     GW1  11/02/2021  9.80  7.00              9.80     17       32       42   \n",
       "..    ...         ...   ...   ...               ...    ...      ...      ...   \n",
       "604  SW57  28/01/2014  0.90  0.60              0.90      1        3       13   \n",
       "605  SW57  28/01/2014  2.00  1.50              2.00      3       11       42   \n",
       "606  SW57  28/01/2014  3.90  3.80              3.90     11       35       67   \n",
       "607  SW57  28/01/2014  5.90  5.90              5.90     13       44       67   \n",
       "608  SW57  28/01/2014  9.60  9.60              9.60     29       63       71   \n",
       "\n",
       "     CHBr3  TTHM  ...  COND  Turb     Cl    Br  COLOUR  FOC    UVA      SUVA  \\\n",
       "0        5    11  ...  79.0  38.0  140.0  0.38     2.0  1.3  0.033  2.538462   \n",
       "1       15    28  ...  79.0  38.0  140.0  0.38     2.0  1.3  0.033  2.538462   \n",
       "2       52   150  ...  79.0  38.0  140.0  0.38     2.0  1.3  0.033  2.538462   \n",
       "3       27   140  ...  79.0  38.0  140.0  0.38     2.0  1.3  0.033  2.538462   \n",
       "4       13   100  ...  79.0  38.0  140.0  0.38     2.0  1.3  0.033  2.538462   \n",
       "..     ...   ...  ...   ...   ...    ...   ...     ...  ...    ...       ...   \n",
       "604     46    62  ...  40.0   0.6   80.0  0.26     2.0  2.4  0.018  0.750000   \n",
       "605     65   121  ...  40.0   0.6   80.0  0.26     2.0  2.4  0.018  0.750000   \n",
       "606     45   158  ...  40.0   0.6   80.0  0.26     2.0  2.4  0.018  0.750000   \n",
       "607     50   174  ...  40.0   0.6   80.0  0.26     2.0  2.4  0.018  0.750000   \n",
       "608     35   198  ...  40.0   0.6   80.0  0.26     2.0  2.4  0.018  0.750000   \n",
       "\n",
       "     30 min decay  classification  \n",
       "0            0.19               0  \n",
       "1           -0.01               0  \n",
       "2            1.90               1  \n",
       "3            2.30               0  \n",
       "4            2.80               0  \n",
       "..            ...             ...  \n",
       "604          0.30               0  \n",
       "605          0.50               0  \n",
       "606          0.10               1  \n",
       "607          0.00               1  \n",
       "608          0.00               1  \n",
       "\n",
       "[402 rows x 21 columns]"
      ]
     },
     "execution_count": 203,
     "metadata": {},
     "output_type": "execute_result"
    }
   ],
   "source": [
    "cleaneddata"
   ]
  },
  {
   "cell_type": "code",
   "execution_count": null,
   "id": "0134a301",
   "metadata": {},
   "outputs": [],
   "source": []
  },
  {
   "cell_type": "code",
   "execution_count": 204,
   "id": "7bc433ea",
   "metadata": {},
   "outputs": [],
   "source": [
    "from sklearn.svm import SVC\n",
    "from sklearn.model_selection import StratifiedKFold\n",
    "from sklearn.feature_selection import RFECV\n",
    "from sklearn.datasets import make_classification"
   ]
  },
  {
   "cell_type": "code",
   "execution_count": 205,
   "id": "ac5cb428",
   "metadata": {},
   "outputs": [],
   "source": [
    "svc = SVC(kernel=\"linear\")"
   ]
  },
  {
   "cell_type": "code",
   "execution_count": 207,
   "id": "93bff1df",
   "metadata": {},
   "outputs": [
    {
     "ename": "ValueError",
     "evalue": "Supported target types are: ('binary', 'multiclass'). Got 'continuous' instead.",
     "output_type": "error",
     "traceback": [
      "\u001b[1;31m---------------------------------------------------------------------------\u001b[0m",
      "\u001b[1;31mValueError\u001b[0m                                Traceback (most recent call last)",
      "\u001b[1;32m<ipython-input-207-bfe8aadb2e68>\u001b[0m in \u001b[0;36m<module>\u001b[1;34m\u001b[0m\n\u001b[0;32m      3\u001b[0m               \u001b[0mscoring\u001b[0m\u001b[1;33m=\u001b[0m\u001b[1;34m'accuracy'\u001b[0m\u001b[1;33m,\u001b[0m\u001b[1;33m\u001b[0m\u001b[1;33m\u001b[0m\u001b[0m\n\u001b[0;32m      4\u001b[0m               min_features_to_select=min_features_to_select)\n\u001b[1;32m----> 5\u001b[1;33m \u001b[0mrfecv\u001b[0m\u001b[1;33m.\u001b[0m\u001b[0mfit\u001b[0m\u001b[1;33m(\u001b[0m\u001b[0mX_train_scaled\u001b[0m\u001b[1;33m,\u001b[0m \u001b[0my_train_scaled\u001b[0m\u001b[1;33m)\u001b[0m\u001b[1;33m\u001b[0m\u001b[1;33m\u001b[0m\u001b[0m\n\u001b[0m",
      "\u001b[1;32m~\\anaconda3\\lib\\site-packages\\sklearn\\feature_selection\\_rfe.py\u001b[0m in \u001b[0;36mfit\u001b[1;34m(self, X, y, groups)\u001b[0m\n\u001b[0;32m    603\u001b[0m             \u001b[0mfunc\u001b[0m \u001b[1;33m=\u001b[0m \u001b[0mdelayed\u001b[0m\u001b[1;33m(\u001b[0m\u001b[0m_rfe_single_fit\u001b[0m\u001b[1;33m)\u001b[0m\u001b[1;33m\u001b[0m\u001b[1;33m\u001b[0m\u001b[0m\n\u001b[0;32m    604\u001b[0m \u001b[1;33m\u001b[0m\u001b[0m\n\u001b[1;32m--> 605\u001b[1;33m         scores = parallel(\n\u001b[0m\u001b[0;32m    606\u001b[0m             \u001b[0mfunc\u001b[0m\u001b[1;33m(\u001b[0m\u001b[0mrfe\u001b[0m\u001b[1;33m,\u001b[0m \u001b[0mself\u001b[0m\u001b[1;33m.\u001b[0m\u001b[0mestimator\u001b[0m\u001b[1;33m,\u001b[0m \u001b[0mX\u001b[0m\u001b[1;33m,\u001b[0m \u001b[0my\u001b[0m\u001b[1;33m,\u001b[0m \u001b[0mtrain\u001b[0m\u001b[1;33m,\u001b[0m \u001b[0mtest\u001b[0m\u001b[1;33m,\u001b[0m \u001b[0mscorer\u001b[0m\u001b[1;33m)\u001b[0m\u001b[1;33m\u001b[0m\u001b[1;33m\u001b[0m\u001b[0m\n\u001b[0;32m    607\u001b[0m             for train, test in cv.split(X, y, groups))\n",
      "\u001b[1;32m~\\anaconda3\\lib\\site-packages\\sklearn\\feature_selection\\_rfe.py\u001b[0m in \u001b[0;36m<genexpr>\u001b[1;34m(.0)\u001b[0m\n\u001b[0;32m    603\u001b[0m             \u001b[0mfunc\u001b[0m \u001b[1;33m=\u001b[0m \u001b[0mdelayed\u001b[0m\u001b[1;33m(\u001b[0m\u001b[0m_rfe_single_fit\u001b[0m\u001b[1;33m)\u001b[0m\u001b[1;33m\u001b[0m\u001b[1;33m\u001b[0m\u001b[0m\n\u001b[0;32m    604\u001b[0m \u001b[1;33m\u001b[0m\u001b[0m\n\u001b[1;32m--> 605\u001b[1;33m         scores = parallel(\n\u001b[0m\u001b[0;32m    606\u001b[0m             \u001b[0mfunc\u001b[0m\u001b[1;33m(\u001b[0m\u001b[0mrfe\u001b[0m\u001b[1;33m,\u001b[0m \u001b[0mself\u001b[0m\u001b[1;33m.\u001b[0m\u001b[0mestimator\u001b[0m\u001b[1;33m,\u001b[0m \u001b[0mX\u001b[0m\u001b[1;33m,\u001b[0m \u001b[0my\u001b[0m\u001b[1;33m,\u001b[0m \u001b[0mtrain\u001b[0m\u001b[1;33m,\u001b[0m \u001b[0mtest\u001b[0m\u001b[1;33m,\u001b[0m \u001b[0mscorer\u001b[0m\u001b[1;33m)\u001b[0m\u001b[1;33m\u001b[0m\u001b[1;33m\u001b[0m\u001b[0m\n\u001b[0;32m    607\u001b[0m             for train, test in cv.split(X, y, groups))\n",
      "\u001b[1;32m~\\anaconda3\\lib\\site-packages\\sklearn\\model_selection\\_split.py\u001b[0m in \u001b[0;36msplit\u001b[1;34m(self, X, y, groups)\u001b[0m\n\u001b[0;32m    330\u001b[0m                 .format(self.n_splits, n_samples))\n\u001b[0;32m    331\u001b[0m \u001b[1;33m\u001b[0m\u001b[0m\n\u001b[1;32m--> 332\u001b[1;33m         \u001b[1;32mfor\u001b[0m \u001b[0mtrain\u001b[0m\u001b[1;33m,\u001b[0m \u001b[0mtest\u001b[0m \u001b[1;32min\u001b[0m \u001b[0msuper\u001b[0m\u001b[1;33m(\u001b[0m\u001b[1;33m)\u001b[0m\u001b[1;33m.\u001b[0m\u001b[0msplit\u001b[0m\u001b[1;33m(\u001b[0m\u001b[0mX\u001b[0m\u001b[1;33m,\u001b[0m \u001b[0my\u001b[0m\u001b[1;33m,\u001b[0m \u001b[0mgroups\u001b[0m\u001b[1;33m)\u001b[0m\u001b[1;33m:\u001b[0m\u001b[1;33m\u001b[0m\u001b[1;33m\u001b[0m\u001b[0m\n\u001b[0m\u001b[0;32m    333\u001b[0m             \u001b[1;32myield\u001b[0m \u001b[0mtrain\u001b[0m\u001b[1;33m,\u001b[0m \u001b[0mtest\u001b[0m\u001b[1;33m\u001b[0m\u001b[1;33m\u001b[0m\u001b[0m\n\u001b[0;32m    334\u001b[0m \u001b[1;33m\u001b[0m\u001b[0m\n",
      "\u001b[1;32m~\\anaconda3\\lib\\site-packages\\sklearn\\model_selection\\_split.py\u001b[0m in \u001b[0;36msplit\u001b[1;34m(self, X, y, groups)\u001b[0m\n\u001b[0;32m     78\u001b[0m         \u001b[0mX\u001b[0m\u001b[1;33m,\u001b[0m \u001b[0my\u001b[0m\u001b[1;33m,\u001b[0m \u001b[0mgroups\u001b[0m \u001b[1;33m=\u001b[0m \u001b[0mindexable\u001b[0m\u001b[1;33m(\u001b[0m\u001b[0mX\u001b[0m\u001b[1;33m,\u001b[0m \u001b[0my\u001b[0m\u001b[1;33m,\u001b[0m \u001b[0mgroups\u001b[0m\u001b[1;33m)\u001b[0m\u001b[1;33m\u001b[0m\u001b[1;33m\u001b[0m\u001b[0m\n\u001b[0;32m     79\u001b[0m         \u001b[0mindices\u001b[0m \u001b[1;33m=\u001b[0m \u001b[0mnp\u001b[0m\u001b[1;33m.\u001b[0m\u001b[0marange\u001b[0m\u001b[1;33m(\u001b[0m\u001b[0m_num_samples\u001b[0m\u001b[1;33m(\u001b[0m\u001b[0mX\u001b[0m\u001b[1;33m)\u001b[0m\u001b[1;33m)\u001b[0m\u001b[1;33m\u001b[0m\u001b[1;33m\u001b[0m\u001b[0m\n\u001b[1;32m---> 80\u001b[1;33m         \u001b[1;32mfor\u001b[0m \u001b[0mtest_index\u001b[0m \u001b[1;32min\u001b[0m \u001b[0mself\u001b[0m\u001b[1;33m.\u001b[0m\u001b[0m_iter_test_masks\u001b[0m\u001b[1;33m(\u001b[0m\u001b[0mX\u001b[0m\u001b[1;33m,\u001b[0m \u001b[0my\u001b[0m\u001b[1;33m,\u001b[0m \u001b[0mgroups\u001b[0m\u001b[1;33m)\u001b[0m\u001b[1;33m:\u001b[0m\u001b[1;33m\u001b[0m\u001b[1;33m\u001b[0m\u001b[0m\n\u001b[0m\u001b[0;32m     81\u001b[0m             \u001b[0mtrain_index\u001b[0m \u001b[1;33m=\u001b[0m \u001b[0mindices\u001b[0m\u001b[1;33m[\u001b[0m\u001b[0mnp\u001b[0m\u001b[1;33m.\u001b[0m\u001b[0mlogical_not\u001b[0m\u001b[1;33m(\u001b[0m\u001b[0mtest_index\u001b[0m\u001b[1;33m)\u001b[0m\u001b[1;33m]\u001b[0m\u001b[1;33m\u001b[0m\u001b[1;33m\u001b[0m\u001b[0m\n\u001b[0;32m     82\u001b[0m             \u001b[0mtest_index\u001b[0m \u001b[1;33m=\u001b[0m \u001b[0mindices\u001b[0m\u001b[1;33m[\u001b[0m\u001b[0mtest_index\u001b[0m\u001b[1;33m]\u001b[0m\u001b[1;33m\u001b[0m\u001b[1;33m\u001b[0m\u001b[0m\n",
      "\u001b[1;32m~\\anaconda3\\lib\\site-packages\\sklearn\\model_selection\\_split.py\u001b[0m in \u001b[0;36m_iter_test_masks\u001b[1;34m(self, X, y, groups)\u001b[0m\n\u001b[0;32m    691\u001b[0m \u001b[1;33m\u001b[0m\u001b[0m\n\u001b[0;32m    692\u001b[0m     \u001b[1;32mdef\u001b[0m \u001b[0m_iter_test_masks\u001b[0m\u001b[1;33m(\u001b[0m\u001b[0mself\u001b[0m\u001b[1;33m,\u001b[0m \u001b[0mX\u001b[0m\u001b[1;33m,\u001b[0m \u001b[0my\u001b[0m\u001b[1;33m=\u001b[0m\u001b[1;32mNone\u001b[0m\u001b[1;33m,\u001b[0m \u001b[0mgroups\u001b[0m\u001b[1;33m=\u001b[0m\u001b[1;32mNone\u001b[0m\u001b[1;33m)\u001b[0m\u001b[1;33m:\u001b[0m\u001b[1;33m\u001b[0m\u001b[1;33m\u001b[0m\u001b[0m\n\u001b[1;32m--> 693\u001b[1;33m         \u001b[0mtest_folds\u001b[0m \u001b[1;33m=\u001b[0m \u001b[0mself\u001b[0m\u001b[1;33m.\u001b[0m\u001b[0m_make_test_folds\u001b[0m\u001b[1;33m(\u001b[0m\u001b[0mX\u001b[0m\u001b[1;33m,\u001b[0m \u001b[0my\u001b[0m\u001b[1;33m)\u001b[0m\u001b[1;33m\u001b[0m\u001b[1;33m\u001b[0m\u001b[0m\n\u001b[0m\u001b[0;32m    694\u001b[0m         \u001b[1;32mfor\u001b[0m \u001b[0mi\u001b[0m \u001b[1;32min\u001b[0m \u001b[0mrange\u001b[0m\u001b[1;33m(\u001b[0m\u001b[0mself\u001b[0m\u001b[1;33m.\u001b[0m\u001b[0mn_splits\u001b[0m\u001b[1;33m)\u001b[0m\u001b[1;33m:\u001b[0m\u001b[1;33m\u001b[0m\u001b[1;33m\u001b[0m\u001b[0m\n\u001b[0;32m    695\u001b[0m             \u001b[1;32myield\u001b[0m \u001b[0mtest_folds\u001b[0m \u001b[1;33m==\u001b[0m \u001b[0mi\u001b[0m\u001b[1;33m\u001b[0m\u001b[1;33m\u001b[0m\u001b[0m\n",
      "\u001b[1;32m~\\anaconda3\\lib\\site-packages\\sklearn\\model_selection\\_split.py\u001b[0m in \u001b[0;36m_make_test_folds\u001b[1;34m(self, X, y)\u001b[0m\n\u001b[0;32m    643\u001b[0m         \u001b[0mallowed_target_types\u001b[0m \u001b[1;33m=\u001b[0m \u001b[1;33m(\u001b[0m\u001b[1;34m'binary'\u001b[0m\u001b[1;33m,\u001b[0m \u001b[1;34m'multiclass'\u001b[0m\u001b[1;33m)\u001b[0m\u001b[1;33m\u001b[0m\u001b[1;33m\u001b[0m\u001b[0m\n\u001b[0;32m    644\u001b[0m         \u001b[1;32mif\u001b[0m \u001b[0mtype_of_target_y\u001b[0m \u001b[1;32mnot\u001b[0m \u001b[1;32min\u001b[0m \u001b[0mallowed_target_types\u001b[0m\u001b[1;33m:\u001b[0m\u001b[1;33m\u001b[0m\u001b[1;33m\u001b[0m\u001b[0m\n\u001b[1;32m--> 645\u001b[1;33m             raise ValueError(\n\u001b[0m\u001b[0;32m    646\u001b[0m                 'Supported target types are: {}. Got {!r} instead.'.format(\n\u001b[0;32m    647\u001b[0m                     allowed_target_types, type_of_target_y))\n",
      "\u001b[1;31mValueError\u001b[0m: Supported target types are: ('binary', 'multiclass'). Got 'continuous' instead."
     ]
    }
   ],
   "source": [
    "min_features_to_select = 1  # Minimum number of features to consider\n",
    "rfecv = RFECV(estimator=model2, step=1, cv=StratifiedKFold(2),\n",
    "              scoring='accuracy',\n",
    "              min_features_to_select=min_features_to_select)\n",
    "rfecv.fit(X_train_scaled, y_train_scaled)\n"
   ]
  },
  {
   "cell_type": "code",
   "execution_count": null,
   "id": "2921a1ea",
   "metadata": {},
   "outputs": [],
   "source": []
  }
 ],
 "metadata": {
  "kernelspec": {
   "display_name": "Python 3",
   "language": "python",
   "name": "python3"
  },
  "language_info": {
   "codemirror_mode": {
    "name": "ipython",
    "version": 3
   },
   "file_extension": ".py",
   "mimetype": "text/x-python",
   "name": "python",
   "nbconvert_exporter": "python",
   "pygments_lexer": "ipython3",
   "version": "3.8.5"
  }
 },
 "nbformat": 4,
 "nbformat_minor": 5
}
