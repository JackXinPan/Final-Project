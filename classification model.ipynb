{
 "cells": [
  {
   "cell_type": "code",
   "execution_count": 1,
   "id": "ed21b55b",
   "metadata": {},
   "outputs": [],
   "source": [
    "import pandas as pd\n",
    "\n"
   ]
  },
  {
   "cell_type": "code",
   "execution_count": 2,
   "id": "a96d72b8",
   "metadata": {},
   "outputs": [],
   "source": [
    "data = pd.read_csv('data/decaydata.csv')\n",
    "data.dropna(inplace=True)\n",
    "data['30 min decay'] = data[\"T0\"]-data[\"T0.5\"]\n",
    "data[\"SUVA\"] = data[\"UVA\"]/data[\"FOC\"]*100"
   ]
  },
  {
   "cell_type": "code",
   "execution_count": 3,
   "id": "abd10b94",
   "metadata": {},
   "outputs": [],
   "source": [
    "cleaneddata = data[data[\"Code\"] != \"SW23\"]"
   ]
  },
  {
   "cell_type": "code",
   "execution_count": 4,
   "id": "d8dae0e1",
   "metadata": {},
   "outputs": [
    {
     "name": "stderr",
     "output_type": "stream",
     "text": [
      "<ipython-input-4-0e0d718d9402>:1: SettingWithCopyWarning: \n",
      "A value is trying to be set on a copy of a slice from a DataFrame.\n",
      "Try using .loc[row_indexer,col_indexer] = value instead\n",
      "\n",
      "See the caveats in the documentation: https://pandas.pydata.org/pandas-docs/stable/user_guide/indexing.html#returning-a-view-versus-a-copy\n",
      "  cleaneddata[\"classification\"] = [\"H\" if x >= 250 else \"M\" if x >= 150 else \"L\" for x in cleaneddata[\"TTHM\"]]\n"
     ]
    }
   ],
   "source": [
    "cleaneddata[\"classification\"] = [\"H\" if x >= 250 else \"M\" if x >= 150 else \"L\" for x in cleaneddata[\"TTHM\"]]"
   ]
  },
  {
   "cell_type": "code",
   "execution_count": 6,
   "id": "f9797b3c",
   "metadata": {},
   "outputs": [
    {
     "data": {
      "text/plain": [
       "array(['L', 'M', 'H'], dtype=object)"
      ]
     },
     "execution_count": 6,
     "metadata": {},
     "output_type": "execute_result"
    }
   ],
   "source": [
    "\n",
    "target_names = cleaneddata['classification'].unique()[0:3]\n",
    "target_names"
   ]
  },
  {
   "cell_type": "code",
   "execution_count": 8,
   "id": "b5da0996",
   "metadata": {},
   "outputs": [
    {
     "data": {
      "text/plain": [
       "array([1, 1, 2, 1, 1, 1, 1, 1, 2, 1, 1, 1, 1, 1, 1, 1, 1, 1, 2, 2, 1, 2,\n",
       "       2, 2, 2, 1, 1, 2, 2, 2, 1, 1, 1, 1, 1, 1, 1, 2, 2, 0, 1, 1, 1, 2,\n",
       "       2, 1, 1, 1, 1, 2, 1, 1, 1, 1, 1, 1, 1, 1, 2, 2, 1, 1, 1, 2, 2, 1,\n",
       "       1, 1, 2, 2, 1, 1, 1, 2, 2, 1, 1, 1, 1, 1, 1, 1, 1, 1, 1, 1, 1, 1,\n",
       "       1, 2, 1, 1, 1, 1, 1, 1, 1, 1, 1, 1, 1, 1, 1, 1, 1, 1, 1, 1, 1, 2,\n",
       "       1, 1, 1, 1, 2, 1, 1, 1, 1, 2, 1, 1, 1, 1, 1, 1, 1, 2, 1, 2, 1, 1,\n",
       "       1, 2, 0, 1, 1, 1, 2, 0, 1, 1, 1, 2, 0, 1, 1, 1, 1, 2, 1, 1, 1, 1,\n",
       "       1, 1, 1, 1, 1, 1, 1, 1, 1, 1, 1, 1, 1, 2, 2, 2, 1, 1, 1, 1, 1, 1,\n",
       "       1, 1, 2, 2, 1, 1, 1, 1, 1, 1, 1, 1, 1, 0, 1, 1, 1, 2, 0, 1, 1, 1,\n",
       "       1, 2, 2, 2, 2, 2, 2, 1, 1, 1, 2, 2, 1, 1, 1, 1, 1, 1, 1, 1, 2, 2,\n",
       "       1, 1, 1, 1, 1, 1, 1, 1, 1, 1, 1, 1, 1, 1, 2, 1, 1, 0, 0, 0, 1, 1,\n",
       "       2, 0, 0, 2, 2, 2, 2, 0, 1, 1, 2, 2, 2, 1, 1, 1, 2, 2, 1, 1, 2, 2,\n",
       "       2, 1, 1, 1, 2, 2, 1, 1, 1, 1, 1, 1, 2, 2, 2, 2, 1, 1, 1, 1, 1, 1,\n",
       "       1, 1, 1, 1, 1, 1, 1, 1, 1, 1, 1, 1, 1, 2, 1, 1, 1, 2, 2, 2, 2, 0,\n",
       "       0, 0, 1, 1, 2, 2, 2, 1, 1, 2, 0, 0, 1, 1, 2, 0, 0, 1, 1, 2, 0, 0,\n",
       "       1, 1, 2, 2, 0, 1, 1, 0, 0, 0, 1, 1, 2, 0, 0, 1, 1, 1, 1, 1, 1, 1,\n",
       "       1, 1, 1, 1, 1, 1, 1, 1, 1, 1, 1, 1, 1, 1, 1, 1, 1, 1, 2, 2, 1, 1,\n",
       "       2, 2, 0, 1, 1, 1, 2, 2, 1, 1, 0, 0, 0, 1, 1, 2, 2, 2, 2, 2, 2, 2,\n",
       "       2, 1, 1, 2, 2, 2])"
      ]
     },
     "execution_count": 8,
     "metadata": {},
     "output_type": "execute_result"
    }
   ],
   "source": [
    "from sklearn.preprocessing import LabelEncoder\n",
    "\n",
    "y  = cleaneddata[\"classification\"]\n",
    "\n",
    "label_encoder = LabelEncoder()\n",
    "label_encoder.fit(y)\n",
    "encoded_y = label_encoder.transform(y)\n",
    "encoded_y"
   ]
  },
  {
   "cell_type": "code",
   "execution_count": 10,
   "id": "ec84b4d4",
   "metadata": {},
   "outputs": [],
   "source": [
    "feature_names = [\"UVA\",\"FOC\",\"pH\",\"Dose Rate (mg/L)\",\"30 min decay\",\"Br\",\"COLOUR\",\"Turb\",\"Cl\",\"COND\"]\n",
    "\n",
    "X = cleaneddata[feature_names]"
   ]
  },
  {
   "cell_type": "code",
   "execution_count": 11,
   "id": "6cb54040",
   "metadata": {},
   "outputs": [],
   "source": [
    "from sklearn.model_selection import train_test_split\n",
    "X_train, X_test, y_train, y_test = train_test_split(X, encoded_y, random_state=42)\n"
   ]
  },
  {
   "cell_type": "code",
   "execution_count": 13,
   "id": "94031226",
   "metadata": {},
   "outputs": [
    {
     "data": {
      "text/plain": [
       "0.7722772277227723"
      ]
     },
     "execution_count": 13,
     "metadata": {},
     "output_type": "execute_result"
    }
   ],
   "source": [
    "from sklearn import tree\n",
    "clf = tree.DecisionTreeClassifier()\n",
    "clf = clf.fit(X_train, y_train)\n",
    "clf.score(X_test, y_test)"
   ]
  },
  {
   "cell_type": "code",
   "execution_count": 14,
   "id": "b70915ba",
   "metadata": {},
   "outputs": [
    {
     "data": {
      "text/plain": [
       "0.8217821782178217"
      ]
     },
     "execution_count": 14,
     "metadata": {},
     "output_type": "execute_result"
    }
   ],
   "source": [
    "from sklearn.ensemble import RandomForestClassifier\n",
    "rf = RandomForestClassifier(n_estimators=200)\n",
    "rf = rf.fit(X_train, y_train)\n",
    "rf.score(X_test, y_test)"
   ]
  },
  {
   "cell_type": "code",
   "execution_count": 16,
   "id": "acdf225e",
   "metadata": {},
   "outputs": [
    {
     "name": "stdout",
     "output_type": "stream",
     "text": [
      "Training Data Score: 1.0\n",
      "Testing Data Score: 0.8217821782178217\n"
     ]
    }
   ],
   "source": [
    "print(f\"Training Data Score: {rf.score(X_train, y_train)}\")\n",
    "print(f\"Testing Data Score: {rf.score(X_test, y_test)}\")"
   ]
  },
  {
   "cell_type": "code",
   "execution_count": 15,
   "id": "f8dc34fd",
   "metadata": {},
   "outputs": [
    {
     "data": {
      "text/plain": [
       "[(0.3070286469482181, 'Dose Rate (mg/L)'),\n",
       " (0.1303926493452933, 'FOC'),\n",
       " (0.12002327245298605, '30 min decay'),\n",
       " (0.08549363146256972, 'UVA'),\n",
       " (0.07116608147853914, 'pH'),\n",
       " (0.06899938286756428, 'Br'),\n",
       " (0.06311405811402096, 'Cl'),\n",
       " (0.05761211356553396, 'Turb'),\n",
       " (0.05666173206151821, 'COND'),\n",
       " (0.03950843170375639, 'COLOUR')]"
      ]
     },
     "execution_count": 15,
     "metadata": {},
     "output_type": "execute_result"
    }
   ],
   "source": [
    "sorted(zip(rf.feature_importances_, feature_names), reverse=True) "
   ]
  },
  {
   "cell_type": "code",
   "execution_count": null,
   "id": "e045771b",
   "metadata": {},
   "outputs": [],
   "source": []
  }
 ],
 "metadata": {
  "kernelspec": {
   "display_name": "Python 3",
   "language": "python",
   "name": "python3"
  },
  "language_info": {
   "codemirror_mode": {
    "name": "ipython",
    "version": 3
   },
   "file_extension": ".py",
   "mimetype": "text/x-python",
   "name": "python",
   "nbconvert_exporter": "python",
   "pygments_lexer": "ipython3",
   "version": "3.8.5"
  }
 },
 "nbformat": 4,
 "nbformat_minor": 5
}
